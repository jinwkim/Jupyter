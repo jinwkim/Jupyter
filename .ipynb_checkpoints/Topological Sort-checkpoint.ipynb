{
 "cells": [
  {
   "cell_type": "code",
   "execution_count": 1,
   "metadata": {},
   "outputs": [],
   "source": [
    "import collections"
   ]
  },
  {
   "cell_type": "code",
   "execution_count": 7,
   "metadata": {},
   "outputs": [],
   "source": [
    "\"\"\"\n",
    " DAG where\n",
    "b <- e ->  a\n",
    "^\t\t\t^\n",
    "|-d <- c <- f\n",
    "\n",
    "\"\"\"\n",
    "\n",
    "adjacency_list = dict()\n",
    "adjacency_list['a']=[]\n",
    "adjacency_list['b']=[]\n",
    "adjacency_list['c']=['d']\n",
    "adjacency_list['d']=['b']\n",
    "adjacency_list['e']=['a','b']\n",
    "adjacency_list['f']=['c']"
   ]
  },
  {
   "cell_type": "code",
   "execution_count": 8,
   "metadata": {},
   "outputs": [],
   "source": [
    "\"\"\"\n",
    "DAG where\n",
    "a --> d --> e <-- c\n",
    "\t  ^\n",
    "\t  |\n",
    "\t  b\n",
    "\"\"\"\n",
    "\n",
    "adjacency_list = dict()\n",
    "adjacency_list['a']=['d']\n",
    "adjacency_list['b']=['d']\n",
    "adjacency_list['c']=['e']\n",
    "adjacency_list['d']=['e']\n",
    "adjacency_list['e']=[]"
   ]
  },
  {
   "cell_type": "code",
   "execution_count": 9,
   "metadata": {},
   "outputs": [],
   "source": [
    "def topologicalSort(adjacency_list):\n",
    "    visited = dict()\n",
    "    output_stack = collections.deque()\n",
    "    for vertex in adjacency_list:\n",
    "        if not visited.get(vertex):\n",
    "            topoSort(vertex, visited, output_stack)\n",
    "    return output_stack"
   ]
  },
  {
   "cell_type": "code",
   "execution_count": 10,
   "metadata": {},
   "outputs": [],
   "source": [
    "def topoSort(vertex, visited, output_stack):\n",
    "    # if not visited.get(vertex):\n",
    "    visited[vertex] = True\n",
    "    \n",
    "    # DFS if appending to stack here (not appendleft)\n",
    "    # output_stack.append(vertex)\n",
    "    \n",
    "    for neighbor in adjacency_list[vertex]:\n",
    "        if not visited.get(neighbor):\n",
    "            topoSort(neighbor, visited, output_stack)\n",
    "    \n",
    "    # topological sort if appendleft here\n",
    "    output_stack.appendleft(vertex)"
   ]
  },
  {
   "cell_type": "code",
   "execution_count": 11,
   "metadata": {},
   "outputs": [
    {
     "name": "stdout",
     "output_type": "stream",
     "text": [
      "deque(['c', 'b', 'a', 'd', 'e'])\n"
     ]
    }
   ],
   "source": [
    "print(topologicalSort(adjacency_list))"
   ]
  },
  {
   "cell_type": "code",
   "execution_count": null,
   "metadata": {},
   "outputs": [],
   "source": []
  }
 ],
 "metadata": {
  "kernelspec": {
   "display_name": "Python 3",
   "language": "python",
   "name": "python3"
  },
  "language_info": {
   "codemirror_mode": {
    "name": "ipython",
    "version": 3
   },
   "file_extension": ".py",
   "mimetype": "text/x-python",
   "name": "python",
   "nbconvert_exporter": "python",
   "pygments_lexer": "ipython3",
   "version": "3.7.4"
  }
 },
 "nbformat": 4,
 "nbformat_minor": 2
}
