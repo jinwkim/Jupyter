{
 "cells": [
  {
   "cell_type": "code",
   "execution_count": 24,
   "metadata": {},
   "outputs": [],
   "source": [
    "from selenium import webdriver\n",
    "from selenium.webdriver.common.keys import Keys\n",
    "from time import sleep, strftime\n",
    "from random import randint\n",
    "import pandas as pd"
   ]
  },
  {
   "cell_type": "code",
   "execution_count": 25,
   "metadata": {},
   "outputs": [],
   "source": [
    "# Use WebDriver to open a Chrome tab and navigate to Instagram login page\n",
    "chromedriver_path = \"/Users/jinwkim/Downloads/chromedriver\"\n",
    "webdriver = webdriver.Chrome(executable_path = chromedriver_path)\n",
    "sleep(1)\n",
    "webdriver.get(\"https://www.instagram.com/accounts/login\")\n",
    "sleep(2)"
   ]
  },
  {
   "cell_type": "code",
   "execution_count": 26,
   "metadata": {},
   "outputs": [],
   "source": [
    "# Enter username/password to log in\n",
    "un, pw = \"\",\"\"\n",
    "username = webdriver.find_element_by_name(\"username\")\n",
    "username.send_keys(un)\n",
    "password = webdriver.find_element_by_name(\"password\")\n",
    "password.send_keys(pw)\n",
    "sleep(2)\n",
    "\n",
    "# Click login button\n",
    "button_login = webdriver.find_element_by_css_selector(\"#react-root > section > main > div > article > div > div:nth-child(1) > div > form > div:nth-child(4) > button\")\n",
    "button_login.click()\n",
    "sleep(3)"
   ]
  },
  {
   "cell_type": "code",
   "execution_count": 28,
   "metadata": {},
   "outputs": [],
   "source": [
    "# Click \"Not Now\" on \"Save Your Login Info?\" popup\n",
    "not_now = webdriver.find_element_by_css_selector(\"#react-root > section > main > div > div > div > div > button\")\n",
    "not_now.click()\n",
    "sleep(3)"
   ]
  },
  {
   "cell_type": "code",
   "execution_count": 29,
   "metadata": {},
   "outputs": [],
   "source": [
    "# Click \"Not Now\" on popup \"Turn on Notifications\"\n",
    "not_now = webdriver.find_element_by_css_selector(\"body > div.RnEpo.Yx5HN > div > div > div > div.mt3GC > button.aOOlW.HoLwm\")\n",
    "not_now.click()\n",
    "sleep(3)"
   ]
  },
  {
   "cell_type": "code",
   "execution_count": null,
   "metadata": {},
   "outputs": [],
   "source": []
  }
 ],
 "metadata": {
  "kernelspec": {
   "display_name": "Python 3",
   "language": "python",
   "name": "python3"
  },
  "language_info": {
   "codemirror_mode": {
    "name": "ipython",
    "version": 3
   },
   "file_extension": ".py",
   "mimetype": "text/x-python",
   "name": "python",
   "nbconvert_exporter": "python",
   "pygments_lexer": "ipython3",
   "version": "3.7.4"
  }
 },
 "nbformat": 4,
 "nbformat_minor": 2
}
